{
 "cells": [
  {
   "cell_type": "code",
   "execution_count": null,
   "metadata": {},
   "outputs": [],
   "source": [
    "%matplotlib inline\n",
    "import os, sys\n",
    "from IPython.display import clear_output\n",
    "\n",
    "os.environ[\"DJANGO_ALLOW_ASYNC_UNSAFE\"] = \"true\"\n",
    "\n",
    "# python wrapper for cpp code\n",
    "from qihmc import Ising\n",
    "\n",
    "# MDS problem to qubo map (install the other repo)\n",
    "from qlp.mds.qubo import get_mds_qubo, QUBO_to_Ising\n",
    "from qlp.mds.graph_tools import get_plot_mpl\n",
    "\n",
    "# import qlp.mds.graph_tools as gt\n",
    "from qlp.mds import graph_tools as gt\n",
    "\n",
    "# from qlp.mds.qubo import get_mds_qubo\n",
    "# from qlp.mds.mds_qlpdb import QUBO_to_Ising\n",
    "\n",
    "from qlpdb.graph.models import Graph as graph_Graph\n",
    "from qlpdb.experiment.models import DWaveExperiment as experiment_Experiment\n",
    "from qlpdb.data.models import Data as data_Data\n",
    "\n",
    "import networkx as nx\n",
    "import matplotlib.pyplot as plt\n",
    "import numpy as np"
   ]
  },
  {
   "cell_type": "markdown",
   "metadata": {},
   "source": [
    "Below is my simple hack at a progress bar.  I need this so that I can gauge if my runs got stuck in a local minimum or not. . ."
   ]
  },
  {
   "cell_type": "code",
   "execution_count": null,
   "metadata": {},
   "outputs": [],
   "source": [
    "# my simple progress bar. . .\n",
    "def update_progress(progress):\n",
    "    bar_length = 40\n",
    "    if isinstance(progress, int):\n",
    "        progress = float(progress)\n",
    "    if not isinstance(progress, float):\n",
    "        progress = 0\n",
    "    if progress < 0:\n",
    "        progress = 0\n",
    "    if progress >= 1:\n",
    "        progress = 1\n",
    "\n",
    "    block = int(round(bar_length * progress))\n",
    "\n",
    "    clear_output(wait=True)\n",
    "    text = \"Progress: [{0}] {1:.1f}%\".format(\n",
    "        \"#\" * block + \"-\" * (bar_length - block), progress * 100\n",
    "    )\n",
    "    print(text)"
   ]
  },
  {
   "cell_type": "code",
   "execution_count": null,
   "metadata": {},
   "outputs": [],
   "source": [
    "# available graphs--choose one of these options\n",
    "# vertices = 4, 10, 50, 100\n",
    "total_vertices = 10"
   ]
  },
  {
   "cell_type": "code",
   "execution_count": null,
   "metadata": {},
   "outputs": [],
   "source": [
    "# this makes some pretty pictures\n",
    "graphs = graph_Graph.objects.filter(total_vertices=total_vertices)\n",
    "for idx, graph in enumerate(graphs):\n",
    "    # plot graph\n",
    "    adjacency_map = graph.adjacency\n",
    "    gt.get_plot(adjacency_map, directed=False)\n",
    "    print(graph.id)\n",
    "    plt.show()"
   ]
  },
  {
   "cell_type": "code",
   "execution_count": null,
   "metadata": {},
   "outputs": [],
   "source": [
    "# Choose graph to read out (these numbers are next to each graph figure above)\n",
    "graph_id = 6"
   ]
  },
  {
   "cell_type": "code",
   "execution_count": null,
   "metadata": {
    "scrolled": false
   },
   "outputs": [],
   "source": [
    "# This gets info about the D-Wave run for this particular graph\n",
    "for idx, experiment in enumerate(\n",
    "    experiment_Experiment.objects.filter(graph_id=graph_id)\n",
    "):\n",
    "    experiment_id = experiment.id\n",
    "    print(experiment_id)\n",
    "    print(experiment)\n",
    "\n",
    "\n",
    "# Print QUBO and Ising information for this system\n",
    "penalty = float(experiment_Experiment.objects.get(id=experiment_id).p)\n",
    "adjacency_map = {tuple(edge) for edge in graph_Graph.objects.get(id=graph_id).adjacency}\n",
    "qubo = get_mds_qubo(\n",
    "    adjacency_map, penalty=penalty, directed=False, triangularize=True, dtype=\"d\"\n",
    ")\n",
    "print(\"QUBO formulation\")\n",
    "print(qubo.todense())\n",
    "J, h, c = QUBO_to_Ising(qubo.todense().tolist())\n",
    "print(\"Ising formulation\")\n",
    "print(J)\n",
    "print(h)\n",
    "print(c)\n",
    "offset = c + penalty * total_vertices\n",
    "# data_Data.objects.filter(experiment_id = experiment_id)"
   ]
  },
  {
   "cell_type": "markdown",
   "metadata": {},
   "source": [
    "Add parameters used for ising model"
   ]
  },
  {
   "cell_type": "code",
   "execution_count": null,
   "metadata": {},
   "outputs": [],
   "source": [
    "init_beta = 0.2  # this is the initial hot temperature to start the annealing process\n",
    "beta = 2.0  # this is the final 'cold' temperature\n",
    "md_steps = 10  # for 4 vertices use 8, 10 vertices use 10, 50 vertices use 22, 100 vertices use 30\n",
    "ergodicity_jumps = -100  # negative here means that we do not do any ergodicity jumps\n",
    "save_frequency = 10  # this really means that we take measurements every 10th trajectory during production\n",
    "\n",
    "ising = Ising(J, h, offset, beta, md_steps, ergodicity_jumps)"
   ]
  },
  {
   "cell_type": "markdown",
   "metadata": {},
   "source": [
    "Now do the runs . . ."
   ]
  },
  {
   "cell_type": "code",
   "execution_count": null,
   "metadata": {},
   "outputs": [],
   "source": [
    "# arrays to store the obserables\n",
    "energies = []\n",
    "contEnergies = []\n",
    "spins = []\n",
    "contSpins = []\n",
    "\n",
    "n_therm = 4000  # this is the number of 'cooling' steps\n",
    "numOfMeasurements = 1000  # self-explanatorz\n",
    "n_trajectories = 1000  # number of trajectories per measurement\n",
    "\n",
    "currentMeasurement = 0\n",
    "while currentMeasurement < numOfMeasurements:\n",
    "    # first cool from initial 'hot' temperature\n",
    "    ising.anneal(init_beta, beta, n_therm, md_steps)\n",
    "\n",
    "    # now due production run at target 'cold' temperature\n",
    "    ising.run_hmc(beta, n_trajectories, md_steps, ergodicity_jumps, save_frequency)\n",
    "\n",
    "    # now I calculate some obserables\n",
    "    psi = np.mean(ising.configs, axis=0) / np.sqrt(ising.beta) - ising.k\n",
    "    pgs = np.floor(psi + 0.5)  # this takes the spins to their nearest integer\n",
    "    norm = pgs @ pgs\n",
    "\n",
    "    # sometimes the solution is not a valid spin solution, so here I check for valid spin solutions\n",
    "    if np.floor(norm + 0.5) == len(\n",
    "        pgs\n",
    "    ):  # if valid, I store solution and its obserables\n",
    "        energies.append(pgs @ J @ pgs + h @ pgs + offset)\n",
    "        spins.append(pgs)\n",
    "        contEnergies.append(np.mean(ising.energy))\n",
    "        contSpins.append(psi)\n",
    "        currentMeasurement += 1\n",
    "        update_progress(currentMeasurement / numOfMeasurements)\n",
    "\n",
    "    # I repeat until I have number of measurements = numOfMeasurements\n",
    "update_progress(1)\n",
    "\n",
    "# here I save the data into text files (yes, I know, not sophisticated at all)\n",
    "# np.savetxt('energies'+str(total_vertices)+'_vertices_graphID_'+str(graph_id)+'.txt',np.array(energies))\n",
    "# np.savetxt('spins'+str(total_vertices)+'_vertices_graphID_'+str(graph_id)+'.txt',np.array(spins))\n",
    "# np.savetxt('contEnergies'+str(total_vertices)+'_vertices_graphID_'+str(graph_id)+'.txt',np.array(contEnergies))\n",
    "# np.savetxt('contSpins'+str(total_vertices)+'_vertices_graphID_'+str(graph_id)+'.txt',np.array(contSpins))"
   ]
  },
  {
   "cell_type": "code",
   "execution_count": null,
   "metadata": {},
   "outputs": [],
   "source": [
    "# here I print out some info on the lowest energy state that was calculated\n",
    "egs = min(energies)\n",
    "numOfEgs = 0\n",
    "egs_indices = []\n",
    "for i in range(len(energies)):\n",
    "    if energies[i] == egs:\n",
    "        numOfEgs += 1\n",
    "        egs_indices.append(i)\n",
    "print(\"# Egs = \", egs, \" happened \", numOfEgs, \" times\")\n",
    "print(\"# Prob. of Success = \", numOfEgs * 1.0 / len(energies))\n",
    "\n",
    "# here is an example of the spin configuration for the lowest energy found\n",
    "randomIndex = np.random.randint(\n",
    "    len(egs_indices)\n",
    ")  # I choose some random low energy state\n",
    "plt.stem(\n",
    "    np.array([i for i in range(ising.Lambda)]),\n",
    "    spins[egs_indices[randomIndex]],\n",
    "    use_line_collection=True,\n",
    ")\n",
    "\n",
    "plt.xlabel(r\"$i$\")\n",
    "plt.ylabel(r\"$S_i$\")"
   ]
  },
  {
   "cell_type": "code",
   "execution_count": null,
   "metadata": {
    "scrolled": false
   },
   "outputs": [],
   "source": [
    "# the histogram of the data\n",
    "energy = dict()\n",
    "for row in data_Data.objects.filter(experiment_id=experiment_id):\n",
    "    if row.energy in energy:\n",
    "        energy[row.energy] += 1\n",
    "    else:\n",
    "        energy[row.energy] = 1\n",
    "x = np.sort(list(energy.keys()))\n",
    "y = [energy[i] for i in x]\n",
    "\n",
    "fig, ax = plt.subplots(1, 2, sharex=True, sharey=True, figsize=(10, 5))\n",
    "\n",
    "ax[0].hist(\n",
    "    energies,\n",
    "    [-0.5 + i for i in range(int(min(energies)), int(max(energies)) + 1)],\n",
    "    edgecolor=\"Green\",\n",
    "    density=1,\n",
    "    facecolor=\"green\",\n",
    "    alpha=0.75,\n",
    ")\n",
    "ax[1].bar(x=x, height=np.array(y) / (1.0 * sum(y)))\n",
    "\n",
    "ax[0].set_xlabel(r\"$E_i$\")\n",
    "ax[0].set_title(r\"HMC\")\n",
    "ax[1].set_xlabel(r\"$E_i$\")\n",
    "ax[1].set_title(r\"D-Wave\")\n",
    "ax[0].set_ylabel(\"Probability\")\n",
    "ax[0].grid(True)\n",
    "ax[1].grid(True)\n",
    "\n",
    "# plt.savefig(str(total_vertices)+'_vertices_graphID_'+str(graph_id)+'.png')\n",
    "\n",
    "for idx, graph in enumerate(graphs):\n",
    "    # plot graph\n",
    "    if graph_id == graph.id:\n",
    "        adjacency_map = graph.adjacency\n",
    "        gt.get_plot(adjacency_map, directed=False)\n",
    "        break\n",
    "\n",
    "# plt.savefig(str(total_vertices)+'_vertices_graphID_'+str(graph_id)+'_connectivity.png')"
   ]
  },
  {
   "cell_type": "markdown",
   "metadata": {},
   "source": [
    "# CK additions for the filter"
   ]
  },
  {
   "cell_type": "markdown",
   "metadata": {},
   "source": [
    "For the MDS problem, we intend to find the least amount of nodes fulfilling\n",
    "$$\n",
    "\\boldsymbol{x}_{0}=\\arg \\min _{x}\\left(\\sum_{i=1}^N x_{i}\\right)\n",
    "$$\n",
    "under the MDS constraints, where $N$ is the total number of vertices and the node $x_i$ is colored if it is equal to one, else zero.\n",
    "\n",
    "Mapping this to the QUBO notation results in\n",
    "$$\n",
    "\\begin{aligned}\n",
    "\\chi^{2}(\\boldsymbol{\\Psi}) &=\\boldsymbol{\\Psi}^{T}\\left(\\begin{array}{ll}\n",
    "Q_{x x} & Q_{x s} \\\\\n",
    "Q_{s x} & Q_{s s}\n",
    "\\end{array}\\right) \\boldsymbol{\\Psi}+p\\|\\boldsymbol{b}\\|^{2} \\\\\n",
    "& \\equiv \\boldsymbol{\\Psi}^{T} Q \\boldsymbol{\\Psi}+C\n",
    "\\end{aligned}\n",
    "$$\n",
    "with\n",
    "$$\n",
    "\\begin{aligned}\n",
    "Q_{x x} &=1+p\\left[J^{T} J+J^{T}+J-\\operatorname{diag}\\left(J^{T} \\mathbf{1}+\\mathbf{1}^{T} J\\right)-1\\right] \\\\\n",
    "Q_{s x} &=-p(1+J)^{T} T_{s} \\\\\n",
    "Q_{s s} &=p\\left[T_{s}^{T} T_{s}+\\operatorname{diag}\\left(T_{s}^{T} \\mathbf{1}+\\mathbf{1}^{T} T_{s}\\right)\\right] \\\\\n",
    "C &=p N\n",
    "\\end{aligned}\n",
    "$$\n",
    "where $J$ is the graph adjacency matrix and $T$ maps integer variables to qubits.\n",
    "\n",
    "If the MDS constraints are fulfilled, the objective function $\\chi^{2}(\\boldsymbol{\\Psi})$ is independent of $p$.\n",
    "Thus, the energy is equal to $\\boldsymbol{\\Psi}^{T} \\boldsymbol{\\Psi}$.\n",
    "This is what I am checking below."
   ]
  },
  {
   "cell_type": "markdown",
   "metadata": {},
   "source": [
    "If I understand your code properly, we should obtain back the qubits from the spins by mapping $\\uparrow = 1 \\to 1$ and $\\downarrow = -1 \\to 0$."
   ]
  },
  {
   "cell_type": "code",
   "execution_count": null,
   "metadata": {},
   "outputs": [],
   "source": [
    "n = 2\n",
    "s0 = spins[n]\n",
    "q0 = (s0 + 1) / 2\n",
    "e0 = energies[n]\n",
    "print(energies[1])"
   ]
  },
  {
   "cell_type": "code",
   "execution_count": null,
   "metadata": {},
   "outputs": [],
   "source": [
    "print(graph_id, experiment_id)\n",
    "penalty = float(experiment_Experiment.objects.get(id=experiment_id).p)\n",
    "adjacency_map = {tuple(edge) for edge in graph_Graph.objects.get(id=graph_id).adjacency}\n",
    "qubo = get_mds_qubo(\n",
    "    adjacency_map, penalty=penalty, directed=False, triangularize=True, dtype=\"d\"\n",
    ")"
   ]
  },
  {
   "cell_type": "markdown",
   "metadata": {},
   "source": [
    "The energy in the QUBO basis is nothing else than $\\vec q \\cdot Q \\cdot q + p N$, where $\\vec q$ is a qubit vector, $Q$ the QUBO, $p$ the penalty term and $N$ the number of vertices."
   ]
  },
  {
   "cell_type": "code",
   "execution_count": null,
   "metadata": {},
   "outputs": [],
   "source": [
    "assert q0.T @ qubo @ q0 + penalty * total_vertices == e0"
   ]
  },
  {
   "cell_type": "markdown",
   "metadata": {},
   "source": [
    "As a cross-check we should also obtain the same anergy using the Ising Hamiltonian"
   ]
  },
  {
   "cell_type": "code",
   "execution_count": null,
   "metadata": {},
   "outputs": [],
   "source": [
    "J, h, c = QUBO_to_Ising(qubo.todense().tolist())\n",
    "offset = c + penalty * total_vertices\n",
    "\n",
    "assert s0.T @ J @ s0 + h @ s0 + offset == e0"
   ]
  },
  {
   "cell_type": "markdown",
   "metadata": {},
   "source": [
    "The below function provides a filter for checking if a given solution fulfills the MDS condition and returns as mask (indices if you like) to filter out wrong solutions"
   ]
  },
  {
   "cell_type": "code",
   "execution_count": null,
   "metadata": {},
   "outputs": [],
   "source": [
    "def get_valid_dominating_set_mask(ss, ee, nn):\n",
    "    \"\"\"Identify spin configurations which satisfy MDS constraints.\n",
    "\n",
    "    Checks if the objective function (sum over all vertices) equals the energy\n",
    "    (and thus the constraint is zero).\n",
    "    Also works for qubits as inputs.\n",
    "    \"\"\"\n",
    "    ss = np.array(ss, dtype=int)\n",
    "    ee = np.array(ee, dtype=int)\n",
    "    qq = (ss + 1) // 2\n",
    "    return qq[:, :nn].sum(axis=1) == ee"
   ]
  },
  {
   "cell_type": "code",
   "execution_count": null,
   "metadata": {},
   "outputs": [],
   "source": [
    "mask = get_valid_dominating_set_mask(spins, energies, total_vertices)\n",
    "print(f\"Number of valid dominating sets: {mask.sum()}/{len(energies)}\")"
   ]
  },
  {
   "cell_type": "code",
   "execution_count": null,
   "metadata": {},
   "outputs": [],
   "source": [
    "idx0 = np.array(energies)[mask].argmin()\n",
    "\n",
    "s_valid = np.array(spins)[mask][idx0]\n",
    "# get indices corresponding to vertices (first total_vertices entries) which point up\n",
    "nodes_index = [n for n, el in enumerate(s_valid[:total_vertices]) if el == 1]\n",
    "\n",
    "gt.get_plot(\n",
    "    graph_Graph.objects.get(id=graph_id).adjacency,\n",
    "    directed=False,\n",
    "    color_nodes=nodes_index,\n",
    "    seed=13,\n",
    ")\n",
    "plt.show()"
   ]
  },
  {
   "cell_type": "markdown",
   "metadata": {},
   "source": [
    "You can do the same thing for the db entries"
   ]
  },
  {
   "cell_type": "code",
   "execution_count": null,
   "metadata": {},
   "outputs": [],
   "source": [
    "# get all the spin configs and energies for a given experiment\n",
    "db_data = data_Data.objects.filter(experiment_id=experiment_id).values_list(\n",
    "    \"spin_config\", \"energy\"\n",
    ")\n",
    "# Map them to arrays (this is a funny looking transpose for lists)\n",
    "db_qubits, db_energies = map(np.array, zip(*db_data))\n",
    "# And generate the mask as before. Also works for qubits as (0+1)//2 = 0\n",
    "db_mask = get_valid_dominating_set_mask(db_qubits, db_energies, total_vertices)\n",
    "print(f\"Number of valid dominating sets: {db_mask.sum()}/{len(db_energies)}\")"
   ]
  },
  {
   "cell_type": "code",
   "execution_count": null,
   "metadata": {},
   "outputs": [],
   "source": [
    "idx0 = np.array(db_energies)[mask].argmin()\n",
    "\n",
    "db_q_valid = db_qubits[mask][idx0]\n",
    "# get indices corresponding to vertices (first total_vertices entries) which point up\n",
    "nodes_index = [n for n, el in enumerate(db_q_valid[:total_vertices]) if el == 1]\n",
    "\n",
    "gt.get_plot(\n",
    "    graph_Graph.objects.get(id=graph_id).adjacency,\n",
    "    directed=False,\n",
    "    color_nodes=nodes_index,\n",
    "    seed=13,\n",
    ")\n",
    "plt.show()"
   ]
  },
  {
   "cell_type": "code",
   "execution_count": null,
   "metadata": {},
   "outputs": [],
   "source": []
  }
 ],
 "metadata": {
  "kernelspec": {
   "display_name": "quantum",
   "language": "python",
   "name": "quantum"
  },
  "language_info": {
   "codemirror_mode": {
    "name": "ipython",
    "version": 3
   },
   "file_extension": ".py",
   "mimetype": "text/x-python",
   "name": "python",
   "nbconvert_exporter": "python",
   "pygments_lexer": "ipython3",
   "version": "3.8.6"
  }
 },
 "nbformat": 4,
 "nbformat_minor": 4
}
