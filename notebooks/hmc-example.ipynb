{
 "cells": [
  {
   "cell_type": "markdown",
   "metadata": {
    "run_control": {
     "frozen": false,
     "read_only": false
    }
   },
   "source": [
    "# Init"
   ]
  },
  {
   "cell_type": "markdown",
   "metadata": {},
   "source": [
    "## Imports"
   ]
  },
  {
   "cell_type": "code",
   "execution_count": 1,
   "metadata": {
    "ExecuteTime": {
     "end_time": "2017-05-19T13:04:47.729738",
     "start_time": "2017-05-19T13:04:47.513361"
    },
    "run_control": {
     "frozen": false,
     "read_only": false
    }
   },
   "outputs": [],
   "source": [
    "import numpy as np\n",
    "import matplotlib.pylab as plt"
   ]
  },
  {
   "cell_type": "markdown",
   "metadata": {},
   "source": [
    "# Example HMC Integrator"
   ]
  },
  {
   "cell_type": "markdown",
   "metadata": {
    "ExecuteTime": {
     "end_time": "2017-05-19T13:38:20.117531",
     "start_time": "2017-05-19T13:38:20.114613"
    }
   },
   "source": [
    "## Introduction"
   ]
  },
  {
   "cell_type": "markdown",
   "metadata": {},
   "source": [
    "The Hybrid Monte Carlo Integration routine samples auxiliary fields $\\phi$ in a sophisticated way (the fields $\\phi$ are distributed according to a probaility $P(\\phi)$), such that the integration over the auxiliary fields becomes the summation over the configurations of auxiliary fields\n",
    "\n",
    "\\begin{equation}\n",
    "    \\int d \\phi \\, f(\\phi) P(\\phi)\n",
    "    =\n",
    "    \\sum _{ \\phi \\in \\Phi } f(\\phi)\n",
    "    \\qquad\n",
    "    \\,\n",
    "    \\Phi = \\left\\{\n",
    "        \\phi \\in \\mathbb{R} \\, \\middle\\vert \\, \\mathrm{hist}(\\Phi | \\phi) =  P(\\phi)\n",
    "    \\right\\}\n",
    "    \\, .\n",
    "\\end{equation}"
   ]
  },
  {
   "cell_type": "markdown",
   "metadata": {},
   "source": [
    "\n",
    "\n",
    "In our case, the distributon of auxilary fields is given by\n",
    "\n",
    "\\begin{equation}\n",
    "    P(\\phi)\n",
    "    = \\mathcal{N}\\det\\left|M(\\phi)\\right| e^{-\\phi^2 / 2}\n",
    "    = \\mathcal{N}\\exp\\left\\{\n",
    "        - \\frac{\\phi^2}{2} + \\log\\left[ \\det\\left|M(\\phi)\\right| \\right]\n",
    "    \\right\\}\n",
    "    \\, .\n",
    "\\end{equation}"
   ]
  },
  {
   "cell_type": "markdown",
   "metadata": {
    "ExecuteTime": {
     "end_time": "2017-05-20T09:47:50.112481",
     "start_time": "2017-05-20T09:47:50.103178"
    }
   },
   "source": [
    "\n",
    "\n",
    "The probability is normaized to one, hence one has to determine $\\mathcal{N}$.\n",
    "The trick to generate the distribution looks as following: we add an additional auxiliary field $\\pi$, which is distributed according to a gaussian with $\\mu=0$ and $\\sigma=1$ and treat the resulting probability as the exponentail of a Hamlitonian\n",
    "\n",
    "\\begin{align}\n",
    "    P(\\phi)\n",
    "    =\n",
    "    \\int \\frac{d \\pi}{\\sqrt{2\\pi}} e^{- \\pi^2/2} P(\\phi)\n",
    "    =\n",
    "    \\frac{\\mathcal{N}}{\\sqrt{2\\pi}}\n",
    "    \\int d \\pi\n",
    "    \\exp\\left\\{\n",
    "        - \\left( \\frac{\\pi^2}{2} + \\frac{\\phi^2}{2} - \\log\\left[ \\det\\left|M(\\phi)\\right|  \\right] \\right)\n",
    "    \\right\\}\n",
    "    =\n",
    "    \\int d \\pi P( \\pi, \\phi)\n",
    "    \\, ,\n",
    "\\end{align}"
   ]
  },
  {
   "cell_type": "markdown",
   "metadata": {},
   "source": [
    "and\n",
    "\n",
    "\\begin{equation}\n",
    "    P( \\pi, \\phi)\n",
    "    =\n",
    "    \\frac{\\mathcal{N}}{\\sqrt{2\\pi}}\n",
    "    \\exp\\left\\{\n",
    "        - H(\\pi, \\phi)\n",
    "    \\right\\}\n",
    "    \\, , \n",
    "    \\qquad\n",
    "    H(\\pi, \\phi)\n",
    "    =\n",
    "    \\frac{\\pi^2}{2}\n",
    "    +\n",
    "    V(\\phi)\n",
    "    \\, , \\qquad\n",
    "    V(\\phi)\n",
    "    =\n",
    "    \\frac{\\phi^2}{2} - \\log\\left[ \\det\\left|M(\\phi)\\right|  \\right]\n",
    "\\end{equation}"
   ]
  },
  {
   "cell_type": "markdown",
   "metadata": {
    "ExecuteTime": {
     "end_time": "2017-05-20T09:48:04.685225",
     "start_time": "2017-05-20T09:48:04.678417"
    }
   },
   "source": [
    "Here we can use the Hamlitonian equation of motions in order to update the $\\phi$ fields for a given starting point in $\\phi$ and $\\pi$\n",
    "\\begin{align}\n",
    "    \\dot{\\phi} &= \\pi \\, ,\n",
    "    &\n",
    "    \\dot{\\pi} & = - \\frac{\\partial \\;}{\\partial \\phi}H(\\pi, \\phi) = - \\frac{\\partial \\;}{\\partial \\phi}V( \\phi)\n",
    "    \\equiv F(\\phi)\n",
    "    \\, .\n",
    "\\end{align}"
   ]
  },
  {
   "cell_type": "markdown",
   "metadata": {},
   "source": [
    "In the last equation we have defined the force term $F(\\phi)$. For the NLEFT algorithm, this is the most expansive term because it depends on the derivative of the fermionic determinant.\n",
    "\n",
    "Because the $\\pi$ fields are distributed according to a Gaussian, we get those guys for free.  Thus we generate a (gaussian) random $\\pi$ field in order to update the $\\phi$ fields and so on.  After several (sophisticated) updates, we ask if we should accept the new field $\\phi$ compared to the inital field $\\phi_0$.  The measure is the exponentail of the energy difference (value of the Hamiltonian):\n",
    "\\begin{equation}\n",
    "    \\exp\\left\\{ -H(\\pi, \\phi) + H(\\pi_0, \\phi_0) \\right\\} > r \\in \\mathrm{uniform}[0,1]\n",
    "\\end{equation}"
   ]
  },
  {
   "cell_type": "markdown",
   "metadata": {},
   "source": [
    "We currently use a Leapforg Integrator for integrating the equation of motion."
   ]
  },
  {
   "cell_type": "markdown",
   "metadata": {},
   "source": [
    "## Toy Example"
   ]
  },
  {
   "cell_type": "markdown",
   "metadata": {},
   "source": [
    "To demonstrate the workflow, I have chosen a simple toy example where the determinant of the fermion matrix, the potential and the force are given by\n",
    "\n",
    "\\begin{align}\n",
    "    \\det\\left|M(\\phi)\\right| &= \\frac{1 + \\phi^2}{\\sqrt{8 \\pi}}\n",
    "    && \\Rightarrow &\n",
    "    V(\\phi) &= \\frac{\\phi^2}{2} - \\log\\left(1 + \\phi^2 \\right)\n",
    "    && \\Rightarrow &\n",
    "    F(\\phi) &= - \\phi + \\frac{2 \\phi}{1 + \\phi^2}\n",
    "    \\, ,\n",
    "\\end{align}\n",
    "\n",
    "where, I have defined the normalization of the probability $\\mathcal N = \\frac{1}{\\sqrt{8 \\pi}}$."
   ]
  },
  {
   "cell_type": "code",
   "execution_count": 2,
   "metadata": {
    "ExecuteTime": {
     "end_time": "2017-05-19T15:06:57.855457",
     "start_time": "2017-05-19T15:06:57.592776"
    },
    "run_control": {
     "frozen": false,
     "read_only": false
    }
   },
   "outputs": [
    {
     "data": {
      "image/png": "[encoded data removed]",
      "text/plain": [
       "<Figure size 432x288 with 1 Axes>"
      ]
     },
     "metadata": {},
     "output_type": "display_data"
    }
   ],
   "source": [
    "def V(phi):\n",
    "    return phi ** 2 / 2 - np.log(1 + phi ** 2)\n",
    "\n",
    "\n",
    "phi = np.linspace(-2, 2, 100)\n",
    "\n",
    "plt.plot(phi, V(phi))\n",
    "plt.xlabel(\"$\\phi$\")\n",
    "plt.ylabel(\"$V(\\phi)$\")\n",
    "plt.show()"
   ]
  },
  {
   "cell_type": "markdown",
   "metadata": {
    "ExecuteTime": {
     "end_time": "2017-05-19T14:14:53.865106",
     "start_time": "2017-05-19T14:14:53.861603"
    }
   },
   "source": [
    "### How to get the force"
   ]
  },
  {
   "cell_type": "markdown",
   "metadata": {},
   "source": [
    "I have introduced a toy problem partition function below. It does not really compute the fermionic determinant depending on the wave function, it just returns a standard result. There are also no complex numbers in this example. Nevetheless, this demonstrates the workflow."
   ]
  },
  {
   "cell_type": "code",
   "execution_count": 3,
   "metadata": {
    "ExecuteTime": {
     "end_time": "2017-05-19T15:37:30.931956",
     "start_time": "2017-05-19T15:37:30.911440"
    },
    "run_control": {
     "frozen": false,
     "read_only": false
    }
   },
   "outputs": [],
   "source": [
    "class ToyPartitionFunction(object):\n",
    "    \"\"\"\n",
    "        Toy example for partion function for fixed fermi determinant M(phi).\n",
    "    \"\"\"\n",
    "\n",
    "    # -----------------------------------\n",
    "    def __init__(self, NT, psi0):\n",
    "        self.NT = NT\n",
    "        self.psi0 = psi0\n",
    "        self.psi = range(NT)\n",
    "\n",
    "    # -----------------------------------\n",
    "    def evolve_psi(self, phi):\n",
    "        # T = lambda phint: 1-0.1*phint  # Transfer matrix\n",
    "        psi_new = [self.psi0]\n",
    "        # for nt, psi_nt in enumerate(psi):\n",
    "        #    psi_new += [T(phi[nt]) * psi_nt]\n",
    "        return psi_new\n",
    "\n",
    "    # -----------------------------------\n",
    "    def get_M(self, psi):\n",
    "        M = []\n",
    "        # for psi_i in psi[self.NT].nucleons:\n",
    "        #    row = []\n",
    "        #    for psi_o in psi[0].nucleons:\n",
    "        #        row += [psi_i.dot(psi_o)]\n",
    "        #    M += [row]\n",
    "        return np.array(M)\n",
    "\n",
    "    # -----------------------------------\n",
    "    def get_determinant(self, phi):\n",
    "        psi_new = self.evolve_psi(phi)\n",
    "        # det = np.linalg.det(self.get_M(psi_new))\n",
    "        # return det\n",
    "        return 1 + np.sum(phi) ** 2\n",
    "\n",
    "    # -----------------------------------\n",
    "    def get_V(self, phi):\n",
    "        det = self.get_determinant(phi)\n",
    "        V = np.sum(phi) ** 2 / 2 - np.log(det)\n",
    "        return V\n",
    "\n",
    "    # -----------------------------------\n",
    "    def get_F(self, phi):\n",
    "        # can be expressed by taking the derivative analytically, (not in phi space numerically)\n",
    "        # F = do_stuff(phi, psi)\n",
    "        return -phi + 2 * phi / (1 + phi ** 2)"
   ]
  },
  {
   "cell_type": "code",
   "execution_count": 4,
   "metadata": {
    "ExecuteTime": {
     "end_time": "2017-05-19T15:37:31.412604",
     "start_time": "2017-05-19T15:37:31.400674"
    },
    "run_control": {
     "frozen": false,
     "read_only": false
    }
   },
   "outputs": [
    {
     "name": "stdout",
     "output_type": "stream",
     "text": [
      "[]\n",
      "2\n",
      "-0.1931471805599453\n",
      "[0.]\n"
     ]
    }
   ],
   "source": [
    "NT = 1\n",
    "psi0 = 0.1\n",
    "Z = ToyPartitionFunction(NT, psi0)\n",
    "\n",
    "psi = np.array([1])\n",
    "\n",
    "phi = np.array([1])\n",
    "\n",
    "print(Z.get_M(1))\n",
    "print(Z.get_determinant(phi))\n",
    "print(Z.get_V(phi))\n",
    "print(Z.get_F(phi))"
   ]
  },
  {
   "cell_type": "markdown",
   "metadata": {},
   "source": [
    "## Leapfrog Integrator"
   ]
  },
  {
   "cell_type": "code",
   "execution_count": 5,
   "metadata": {
    "ExecuteTime": {
     "end_time": "2017-05-19T15:50:05.981925",
     "start_time": "2017-05-19T15:50:05.952968"
    },
    "run_control": {
     "frozen": false,
     "read_only": false
    }
   },
   "outputs": [],
   "source": [
    "class LeapfrogIntegrator(object):\n",
    "    # -----------------------------------\n",
    "    def __init__(self, force, N):\n",
    "        \"\"\"\n",
    "            Takes the potential which is used to update the momenta as input as well as the size of vectors.\n",
    "        \"\"\"\n",
    "        self.F = force\n",
    "        self.N = N\n",
    "        self.pi_history = []\n",
    "        self.phi_history = []\n",
    "\n",
    "    # -----------------------------------\n",
    "    def update_pi(self, phi, pi, step_size):\n",
    "        pinew = pi + step_size * self.F(phi)\n",
    "        self.phi_history.append(phi)\n",
    "        self.pi_history.append(pinew)\n",
    "        return pinew\n",
    "\n",
    "    # -----------------------------------\n",
    "    def update_phi(self, phi, pi, step_size):\n",
    "        phinew = phi + step_size * pi\n",
    "        self.phi_history.append(phinew)\n",
    "        self.pi_history.append(pi)\n",
    "        return phinew\n",
    "\n",
    "    # -----------------------------------\n",
    "    def integrate(self, NStep, step_size, phi=None, pi=None):\n",
    "        if pi is None:\n",
    "            pi = np.random.normal(size=self.N)\n",
    "        self.pi_history.append(pi)\n",
    "        if phi is None:\n",
    "            phi = np.random.normal(size=self.N)\n",
    "        self.phi_history.append(phi)\n",
    "        for n in range(NStep):\n",
    "            phi = self.update_phi(phi, pi, step_size / 2)\n",
    "            pi = self.update_pi(phi, pi, step_size)\n",
    "            phi = self.update_phi(phi, pi, step_size / 2)\n",
    "        return phi, pi\n",
    "\n",
    "    # -----------------------------------\n",
    "    def reset_history(self):\n",
    "        self.pi_history = []\n",
    "        self.phi_history = []\n",
    "\n",
    "    # -----------------------------------\n",
    "    def get_history(self):\n",
    "        phis = np.array(self.phi_history).astype(float).flatten()\n",
    "        pis = np.array(self.pi_history).astype(float).flatten()\n",
    "        return phis, pis"
   ]
  },
  {
   "cell_type": "markdown",
   "metadata": {
    "ExecuteTime": {
     "end_time": "2017-05-19T14:18:06.809240",
     "start_time": "2017-05-19T14:18:06.806323"
    }
   },
   "source": [
    "### Toy Example Integration"
   ]
  },
  {
   "cell_type": "code",
   "execution_count": 6,
   "metadata": {
    "ExecuteTime": {
     "end_time": "2017-05-19T15:50:14.524775",
     "start_time": "2017-05-19T15:50:14.084490"
    },
    "run_control": {
     "frozen": false,
     "read_only": false
    }
   },
   "outputs": [
    {
     "data": {
      "image/png": "[encoded data removed]",
      "text/plain": [
       "<Figure size 432x288 with 1 Axes>"
      ]
     },
     "metadata": {},
     "output_type": "display_data"
    }
   ],
   "source": [
    "NT = 1\n",
    "NM = 60\n",
    "psi0 = 0.1\n",
    "Z = ToyPartitionFunction(NT, psi0)\n",
    "\n",
    "integ = LeapfrogIntegrator(Z.get_F, 1)\n",
    "\n",
    "integ.integrate(NM, 0.1)\n",
    "\n",
    "phis, pis = integ.get_history()\n",
    "\n",
    "Hs = []\n",
    "for pi, phi in zip(pis, phis):\n",
    "    Hs += [pi ** 2 + Z.get_V(np.array([phi]))]\n",
    "\n",
    "plt.plot(np.arange(NM * 3 + 1) / 3.0, pis, \"--\", label=\"$\\pi$\")\n",
    "plt.plot(np.arange(NM * 3 + 1) / 3.0, phis, \"-\", label=\"$\\phi$\")\n",
    "plt.plot(np.arange(NM * 3 + 1) / 3.0, Hs, \":\", label=\"$H$\")\n",
    "\n",
    "plt.legend()\n",
    "\n",
    "plt.xlim([0, NM])\n",
    "\n",
    "plt.xlabel(\"Molecular Dynamic Steps\")\n",
    "\n",
    "plt.ylabel(\"Values\")\n",
    "\n",
    "plt.show()"
   ]
  },
  {
   "cell_type": "markdown",
   "metadata": {},
   "source": [
    "## HMC Evolution"
   ]
  },
  {
   "cell_type": "code",
   "execution_count": 7,
   "metadata": {
    "ExecuteTime": {
     "end_time": "2017-05-19T15:50:20.427234",
     "start_time": "2017-05-19T15:50:20.362240"
    },
    "run_control": {
     "frozen": false,
     "read_only": false
    }
   },
   "outputs": [],
   "source": [
    "class HMCIntegator(object):\n",
    "    def __init__(self, potential, force, Nvec=10, fact=1.0 / 10):\n",
    "        # Probability\n",
    "        self.V = potential\n",
    "        self.fact = fact\n",
    "        # Leapfrog\n",
    "        self.integ = LeapfrogIntegrator(force, Nvec)\n",
    "        self.Nvec = Nvec\n",
    "        self.force = force\n",
    "        # Computation\n",
    "        self.ensamble = []\n",
    "        self.acceptance = []\n",
    "        self.H = []\n",
    "\n",
    "    def do_HMC_step(self, NStep, step_size, phi0=None, verbose=False):\n",
    "        \"\"\"\n",
    "            Returns [type phi0] phi_new, [type p0] p_new, [int] acctepted \n",
    "        \"\"\"\n",
    "        self.integ.reset_history()\n",
    "        self.integ.integrate(NStep, step_size, phi=phi0)\n",
    "\n",
    "        phi, pi = self.integ.get_history()\n",
    "\n",
    "        H0 = np.sum(pi[0] ** 2 / 2 + self.V(phi[0])) * self.fact\n",
    "        H = np.sum(pi[-1] ** 2 / 2 + self.V(phi[-1])) * self.fact\n",
    "\n",
    "        r = np.random.uniform(size=1)[0]\n",
    "        if verbose:\n",
    "            print(phi0, H0)\n",
    "            print(phi, H)\n",
    "            print(np.exp(H0 - H), np.exp(H0 - H) > r)\n",
    "\n",
    "        if np.exp(H0 - H) > r:  # accept\n",
    "            return phi[-1], H, 1\n",
    "        else:\n",
    "            return phi[0], H0, 0\n",
    "\n",
    "    def get_ensemble(self, NSample, NTherm=10, step_size=0.1, NStep=10, verbose=False):\n",
    "        \"\"\"\n",
    "            Computes the ensamble of new configurations.\n",
    "                - [int]   NSample   : The size of the ensamble\n",
    "                - [int]   NTherm    : The number of thermalization steps (will not be included)\n",
    "                                      (Does not thermalize if expand is True)\n",
    "                - [float] step_size : The size of the integrator step\n",
    "                - [int]   NStep     : The number of integrator steps\n",
    "                - [bool]  expand    : Speciefies wether to generate a new ensamble or extend an existing one\n",
    "            \n",
    "        \"\"\"\n",
    "        self.ensamble = []\n",
    "        self.acceptance = []\n",
    "        self.H = []\n",
    "\n",
    "        # Thermalize distribution\n",
    "        phi = None\n",
    "        for nc in range(NTherm):\n",
    "            phi, H, accepted = self.do_HMC_step(\n",
    "                NStep, step_size, phi0=phi, verbose=False\n",
    "            )\n",
    "\n",
    "        # Start sampeling distribution\n",
    "        for nc in range(NSample):\n",
    "            phi, H, accepted = self.do_HMC_step(\n",
    "                NStep, step_size, phi0=phi, verbose=verbose\n",
    "            )\n",
    "            self.ensamble.append(phi)\n",
    "            self.H.append(H)\n",
    "            self.acceptance.append(accepted)\n",
    "\n",
    "        acceptance = np.sum(self.acceptance) * 1.0 / len(self.acceptance)\n",
    "\n",
    "        return acceptance"
   ]
  },
  {
   "cell_type": "markdown",
   "metadata": {},
   "source": [
    "The next evaluation is a little bit time intensive"
   ]
  },
  {
   "cell_type": "markdown",
   "metadata": {},
   "source": [
    "### Toy Example Result"
   ]
  },
  {
   "cell_type": "code",
   "execution_count": 8,
   "metadata": {
    "ExecuteTime": {
     "end_time": "2017-05-19T15:50:56.756579",
     "start_time": "2017-05-19T15:50:46.349593"
    },
    "run_control": {
     "frozen": false,
     "read_only": false
    }
   },
   "outputs": [
    {
     "data": {
      "text/plain": [
       "0.9994"
      ]
     },
     "execution_count": 8,
     "metadata": {},
     "output_type": "execute_result"
    }
   ],
   "source": [
    "NT = 1\n",
    "NM = 10\n",
    "psi0 = 0.1\n",
    "Z = ToyPartitionFunction(NT, psi0)\n",
    "\n",
    "hmc = HMCIntegator(Z.get_V, Z.get_F, Nvec=1, fact=1.0)\n",
    "\n",
    "hmc.get_ensemble(10000, NTherm=1000, step_size=0.1, NStep=NM, verbose=False)"
   ]
  },
  {
   "cell_type": "code",
   "execution_count": 9,
   "metadata": {
    "ExecuteTime": {
     "end_time": "2017-05-19T15:50:57.248843",
     "start_time": "2017-05-19T15:50:56.758872"
    },
    "run_control": {
     "frozen": false,
     "read_only": false
    }
   },
   "outputs": [
    {
     "data": {
      "image/png": "[encoded data removed]",
      "text/plain": [
       "<Figure size 432x288 with 1 Axes>"
      ]
     },
     "metadata": {},
     "output_type": "display_data"
    }
   ],
   "source": [
    "plt.hist(\n",
    "    hmc.ensamble,\n",
    "    density=True,\n",
    "    bins=40,\n",
    "    alpha=0.4,\n",
    "    color=\"blue\",\n",
    "    label=\"$P_\\mathrm{HMC}(\\phi)$\",\n",
    ")\n",
    "\n",
    "phi = np.linspace(-5, 5, 100)\n",
    "\n",
    "plt.plot(\n",
    "    phi,\n",
    "    np.exp(-V(phi)) / np.sqrt(8 * np.pi),\n",
    "    linewidth=2,\n",
    "    color=\"black\",\n",
    "    label=\"$P(\\phi)$\",\n",
    ")\n",
    "\n",
    "plt.legend(loc=\"best\", frameon=True)\n",
    "\n",
    "plt.xlabel(\"$\\phi$\")\n",
    "plt.ylabel(\"$P(\\phi)$\")\n",
    "\n",
    "plt.show()"
   ]
  },
  {
   "cell_type": "code",
   "execution_count": null,
   "metadata": {},
   "outputs": [],
   "source": []
  }
 ],
 "metadata": {
  "kernelspec": {
   "display_name": "Python 3",
   "language": "python",
   "name": "python3"
  },
  "language_info": {
   "codemirror_mode": {
    "name": "ipython",
    "version": 3
   },
   "file_extension": ".py",
   "mimetype": "text/x-python",
   "name": "python",
   "nbconvert_exporter": "python",
   "pygments_lexer": "ipython3",
   "version": "3.8.6"
  },
  "latex_envs": {
   "bibliofile": "biblio.bib",
   "cite_by": "apalike",
   "current_citInitial": 1,
   "eqLabelWithNumbers": true,
   "eqNumInitial": 0
  }
 },
 "nbformat": 4,
 "nbformat_minor": 1
}
