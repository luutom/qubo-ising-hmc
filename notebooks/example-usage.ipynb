{
 "cells": [
  {
   "cell_type": "markdown",
   "metadata": {},
   "source": [
    "# import libraries"
   ]
  },
  {
   "cell_type": "code",
   "execution_count": 1,
   "metadata": {},
   "outputs": [],
   "source": [
    "# python wrapper for cpp code\n",
    "from qubo_ising_hmc import Ising\n",
    "\n",
    "import numpy as np\n",
    "import matplotlib.pyplot as plt\n",
    "\n",
    "# MDS problem to qubo map (install the other repo)\n",
    "from qlp.mds.qubo import get_mds_qubo, QUBO_to_Ising\n",
    "from qlp.mds.graph_tools import get_plot_mpl\n",
    "import qlp.mds.graph_tools as gt"
   ]
  },
  {
   "cell_type": "raw",
   "metadata": {},
   "source": [
    "# The graph is defined as a set of edges. An edge is a tuple of two nodes."
   ]
  },
  {
   "cell_type": "code",
   "execution_count": 2,
   "metadata": {
    "scrolled": false
   },
   "outputs": [
    {
     "data": {
      "image/png": "[encoded data removed]",
      "text/plain": [
       "<Figure size 432x288 with 1 Axes>"
      ]
     },
     "metadata": {},
     "output_type": "display_data"
    }
   ],
   "source": [
    "graph,_ = gt.generate_nn_graph(3)\n",
    "get_plot_mpl(graph)\n",
    "plt.show()"
   ]
  },
  {
   "cell_type": "markdown",
   "metadata": {},
   "source": [
    "Set up the QUBO and ising model. Specify the penalty term"
   ]
  },
  {
   "cell_type": "code",
   "execution_count": 3,
   "metadata": {},
   "outputs": [
    {
     "name": "stdout",
     "output_type": "stream",
     "text": [
      "[[ 0.  2.  1. -1. -1. -2.  0.]\n",
      " [ 0.  0.  2. -1. -1. -2. -1.]\n",
      " [ 0.  0.  0.  0. -1. -2. -1.]\n",
      " [ 0.  0.  0.  0.  0.  0.  0.]\n",
      " [ 0.  0.  0.  0.  0.  2.  0.]\n",
      " [ 0.  0.  0.  0.  0.  0.  0.]\n",
      " [ 0.  0.  0.  0.  0.  0.  0.]]\n",
      "[-2.5 -3.5 -2.5  1.   2.   4.   1. ]\n",
      "11.5\n"
     ]
    }
   ],
   "source": [
    "penalty = 2\n",
    "nodes = set([i for i, _ in graph] + [j for _, j in graph])\n",
    "n_nodes = len(nodes)\n",
    "\n",
    "qubo = get_mds_qubo(graph, penalty=penalty, triangularize=True)\n",
    "J, h, c = QUBO_to_Ising(qubo.todense())\n",
    "\n",
    "offset = c + penalty * n_nodes\n",
    "\n",
    "print(J)\n",
    "print(h)\n",
    "print(offset)"
   ]
  },
  {
   "cell_type": "markdown",
   "metadata": {},
   "source": [
    "Add parameters used for ising model"
   ]
  },
  {
   "cell_type": "code",
   "execution_count": 4,
   "metadata": {},
   "outputs": [],
   "source": [
    "beta = 3.5\n",
    "md_steps = 10\n",
    "ergodicity_jumps = -100"
   ]
  },
  {
   "cell_type": "code",
   "execution_count": 5,
   "metadata": {},
   "outputs": [
    {
     "name": "stdout",
     "output_type": "stream",
     "text": [
      "Class wraps HMC solver for spin-glass Hamiltonian such that\n",
      "\n",
      "    H[psi] = psi@J@psi + h@psi + offset\n",
      "\n",
      "    and the partition function corresponds to\n",
      "\n",
      "    Z = sum(exp(- beta H[psi]), psi)\n",
      "\n",
      "\n",
      "    Attributes:\n",
      "        J: Spin coupling matrix\n",
      "        h: External magentic field\n",
      "        offset: Offset of Hamiltonian\n",
      "        beta: Inverse termperature\n",
      "        md_steps: Number of molecular dynamics steps\n",
      "        ergodicity_jumps: Parameter which helps with erogdicity. Defaults to -100\n",
      "\n",
      "    Note:\n",
      "        Multiplies with minus one before inserting in CPP class.\n",
      "\n",
      "    Todo:\n",
      "        * Test\n",
      "        * Think about matrix symmetry\n",
      "    \n"
     ]
    }
   ],
   "source": [
    "print(Ising.__doc__)"
   ]
  },
  {
   "cell_type": "markdown",
   "metadata": {},
   "source": [
    "This is equivalent to your read in and `.initialize()` call.\n",
    "\n",
    "I have not included the factor of `1/2` you have in your notes when setting up\n",
    "$$\n",
    "    K_{sym} = K^T + K\n",
    "$$"
   ]
  },
  {
   "cell_type": "code",
   "execution_count": 6,
   "metadata": {},
   "outputs": [
    {
     "name": "stdout",
     "output_type": "stream",
     "text": [
      "('J =', array([[-0., -2., -1.,  1.,  1.,  2., -0.],\n",
      "       [-2., -0., -2.,  1.,  1.,  2.,  1.],\n",
      "       [-1., -2., -0., -0.,  1.,  2.,  1.],\n",
      "       [ 1.,  1., -0., -0., -0., -0., -0.],\n",
      "       [ 1.,  1.,  1., -0., -0., -2., -0.],\n",
      "       [ 2.,  2.,  2., -0., -2., -0., -0.],\n",
      "       [-0.,  1.,  1., -0., -0., -0., -0.]]))\n",
      "('h_sym =', array([ 2.5,  3.5,  2.5, -1. , -2. , -4. , -1. ]))\n",
      "('offset =', 11.5)\n",
      "('C_in =', 6.869786498565076)\n",
      "('beta =', 3.5)\n"
     ]
    }
   ],
   "source": [
    "ising = Ising(J, h, offset, beta, md_steps, ergodicity_jumps)"
   ]
  },
  {
   "cell_type": "markdown",
   "metadata": {},
   "source": [
    "First anneal, starting at some \"hot\" temperature and cool to the target temperature"
   ]
  },
  {
   "cell_type": "code",
   "execution_count": 7,
   "metadata": {},
   "outputs": [],
   "source": [
    "init_beta=.2\n",
    "n_therm = 50000\n",
    "md_steps = 10\n",
    "ising.anneal(init_beta,beta,n_therm, md_steps,ergodicity_jumps)  # this always accepts"
   ]
  },
  {
   "cell_type": "markdown",
   "metadata": {},
   "source": [
    "Now thermalize at target temperature for some time"
   ]
  },
  {
   "cell_type": "code",
   "execution_count": 8,
   "metadata": {},
   "outputs": [],
   "source": [
    "n_therm = 500000\n",
    "md_steps = 10\n",
    "# we can continue to thermalize (ie always accept)\n",
    "ising.thermalize(beta, n_therm, md_steps, ergodicity_jumps)\n",
    "md_steps = 5\n",
    "# we can now include accept/reject for some steps\n",
    "ising.run_hmc(beta,n_therm,md_steps,ergodicity_jumps,10)"
   ]
  },
  {
   "cell_type": "markdown",
   "metadata": {},
   "source": [
    "Run HMC (see `quboIsingHMC.cpp` line 252+)\n",
    "\n",
    "This first clears and then populates the \n",
    "```\n",
    "ising.energy\n",
    "ising.acceptance\n",
    "ising.configs\n",
    "```\n",
    "members"
   ]
  },
  {
   "cell_type": "code",
   "execution_count": 9,
   "metadata": {},
   "outputs": [],
   "source": [
    "n_trajectories = 500000\n",
    "save_frequency = 10\n",
    "md_steps = 10\n",
    "ising.run_hmc(beta,n_trajectories,md_steps,ergodicity_jumps,save_frequency)"
   ]
  },
  {
   "cell_type": "markdown",
   "metadata": {},
   "source": [
    "Compute ensemble averages"
   ]
  },
  {
   "cell_type": "code",
   "execution_count": 10,
   "metadata": {},
   "outputs": [
    {
     "name": "stdout",
     "output_type": "stream",
     "text": [
      "Energy = 1.0801249903377954\n",
      "Acceptance = 0.9940521189576209\n",
      "Ground state = [-1.02  0.99 -1.01 -1.   -0.99 -0.99 -0.95]\n",
      "Energy from groundstate = 1.053\n"
     ]
    }
   ],
   "source": [
    "e = np.mean(ising.energy)\n",
    "p = np.mean(ising.acceptance)\n",
    "psi = np.mean(ising.configs, axis=0) / np.sqrt(ising.beta) - ising.k\n",
    "\n",
    "ppsi = psi.round(2)\n",
    "e_gs =  ppsi @ J @ ppsi + h @ ppsi + offset\n",
    "\n",
    "print(\"Energy =\", e)\n",
    "print(\"Acceptance =\", p)\n",
    "print(\"Ground state =\", ppsi)\n",
    "print(f\"Energy from groundstate = {e_gs:1.3f}\")"
   ]
  },
  {
   "cell_type": "markdown",
   "metadata": {},
   "source": [
    "Note that I played around with a few parameters. As a matter of fact, I get stuck in a 2 node ground state solution if I run with the same parameters as the cpp file. Not sure if something goes wrong."
   ]
  },
  {
   "cell_type": "code",
   "execution_count": 11,
   "metadata": {},
   "outputs": [
    {
     "data": {
      "image/png": "[encoded data removed]",
      "text/plain": [
       "<Figure size 432x288 with 1 Axes>"
      ]
     },
     "metadata": {
      "needs_background": "light"
     },
     "output_type": "display_data"
    }
   ],
   "source": [
    "n, bins, patches = plt.hist(np.mean(ising.configs,axis=1),50, \n",
    "                            edgecolor='Black', density=1, facecolor='green', \n",
    "                            alpha=0.75)\n",
    "\n",
    "plt.xlabel(r'$\\psi$')\n",
    "plt.ylabel('Probability')\n",
    "plt.grid(False)\n",
    "\n",
    "plt.show()"
   ]
  },
  {
   "cell_type": "code",
   "execution_count": 12,
   "metadata": {},
   "outputs": [
    {
     "data": {
      "image/png": "[encoded data removed]",
      "text/plain": [
       "<Figure size 432x288 with 1 Axes>"
      ]
     },
     "metadata": {
      "needs_background": "light"
     },
     "output_type": "display_data"
    }
   ],
   "source": [
    "plt.stem(np.array([i for i in range(ising.Lambda)]),\n",
    "         np.mean(ising.configs,axis=0)/ np.sqrt(ising.beta) - ising.k,\n",
    "         use_line_collection=True)\n",
    "\n",
    "plt.xlabel(r'$i$')\n",
    "plt.ylabel(r'$S_i$')\n",
    "\n",
    "plt.show()"
   ]
  },
  {
   "cell_type": "markdown",
   "metadata": {},
   "source": [
    "# Anneal w/o H, and then turn on H adiabatically"
   ]
  },
  {
   "cell_type": "markdown",
   "metadata": {},
   "source": [
    "Now let's anneal without the external field"
   ]
  },
  {
   "cell_type": "code",
   "execution_count": 159,
   "metadata": {},
   "outputs": [],
   "source": [
    "init_beta=.2\n",
    "target_beta = 3.5\n",
    "n_therm = 500000\n",
    "md_steps = 10\n",
    "ergodicity_jumps = 100\n",
    "ising.annealNoH(init_beta,target_beta,n_therm, md_steps,ergodicity_jumps)"
   ]
  },
  {
   "cell_type": "markdown",
   "metadata": {},
   "source": [
    "Now turn on the external field adiabatically"
   ]
  },
  {
   "cell_type": "code",
   "execution_count": 192,
   "metadata": {},
   "outputs": [],
   "source": [
    "n_therm = 500000\n",
    "md_steps = 10\n",
    "ising.turnOnH(target_beta,n_therm, md_steps,ergodicity_jumps)"
   ]
  },
  {
   "cell_type": "markdown",
   "metadata": {},
   "source": [
    "Now run regular hmc"
   ]
  },
  {
   "cell_type": "code",
   "execution_count": 193,
   "metadata": {},
   "outputs": [],
   "source": [
    "n_trajectories = 1000000\n",
    "save_frequency = 10\n",
    "md_steps = 2\n",
    "ergodicity_jumps = -1\n",
    "ising.run_hmc(target_beta,n_trajectories,md_steps,ergodicity_jumps,save_frequency)"
   ]
  },
  {
   "cell_type": "markdown",
   "metadata": {},
   "source": [
    "Compute ensemble averages:"
   ]
  },
  {
   "cell_type": "code",
   "execution_count": 194,
   "metadata": {},
   "outputs": [
    {
     "name": "stdout",
     "output_type": "stream",
     "text": [
      "Energy = 1.0712437771640602\n",
      "Acceptance = 0.7919860801391987\n",
      "Ground state = [-1.01  0.99 -1.01 -1.   -0.99 -0.99 -1.  ]\n",
      "Energy from groundstate = 1.027\n"
     ]
    }
   ],
   "source": [
    "e = np.mean(ising.energy)\n",
    "p = np.mean(ising.acceptance)\n",
    "psi = np.mean(ising.configs, axis=0) / np.sqrt(target_beta) - ising.k\n",
    "\n",
    "ppsi = psi.round(2)\n",
    "e_gs =  ppsi @ J @ ppsi + h @ ppsi + offset\n",
    "\n",
    "print(\"Energy =\", e)\n",
    "print(\"Acceptance =\", p)\n",
    "print(\"Ground state =\", ppsi)\n",
    "print(f\"Energy from groundstate = {e_gs:1.3f}\")"
   ]
  },
  {
   "cell_type": "code",
   "execution_count": 195,
   "metadata": {},
   "outputs": [
    {
     "data": {
      "image/png": "[encoded data removed]",
      "text/plain": [
       "<Figure size 432x288 with 1 Axes>"
      ]
     },
     "metadata": {
      "needs_background": "light"
     },
     "output_type": "display_data"
    }
   ],
   "source": [
    "n, bins, patches = plt.hist(np.mean(ising.configs,axis=1),50, \n",
    "                            edgecolor='Black', density=1, facecolor='green', \n",
    "                            alpha=0.75)\n",
    "\n",
    "plt.xlabel(r'$\\psi$')\n",
    "plt.ylabel('Probability')\n",
    "plt.grid(False)\n",
    "\n",
    "plt.show()"
   ]
  },
  {
   "cell_type": "code",
   "execution_count": 174,
   "metadata": {},
   "outputs": [
    {
     "data": {
      "image/png": "[encoded data removed]",
      "text/plain": [
       "<Figure size 432x288 with 1 Axes>"
      ]
     },
     "metadata": {
      "needs_background": "light"
     },
     "output_type": "display_data"
    }
   ],
   "source": [
    "plt.stem(np.array([i for i in range(ising.Lambda)]),\n",
    "         np.mean(ising.configs,axis=0)/ np.sqrt(target_beta) - ising.k,\n",
    "         use_line_collection=True)\n",
    "\n",
    "plt.xlabel(r'$i$')\n",
    "plt.ylabel(r'$S_i$')\n",
    "\n",
    "plt.show()"
   ]
  },
  {
   "cell_type": "markdown",
   "metadata": {},
   "source": [
    "# Now anneal AND turn on H adiabatically at the same time"
   ]
  },
  {
   "cell_type": "code",
   "execution_count": 40,
   "metadata": {},
   "outputs": [],
   "source": [
    "init_beta=.2\n",
    "target_beta = 3.5\n",
    "n_therm = 1000000\n",
    "md_steps = 10\n",
    "ergodicity_jumps = 100\n",
    "ising.annealAndTurnOnH(init_beta,target_beta,n_therm, md_steps,ergodicity_jumps)\n",
    "# This anneals and turns on H at the same time (this does accept/reject all the time)\n",
    "# It sets H=0 @ init_beta, then takes n_therm steps to reach H @ target_beta"
   ]
  },
  {
   "cell_type": "code",
   "execution_count": 41,
   "metadata": {},
   "outputs": [],
   "source": [
    "n_trajectories = 1000000\n",
    "save_frequency = 10\n",
    "md_steps = 2\n",
    "ergodicity_jumps = -1\n",
    "ising.run_hmc(target_beta,n_trajectories,md_steps,ergodicity_jumps,save_frequency)\n",
    "# this just does accept/reject at the target temperature"
   ]
  },
  {
   "cell_type": "code",
   "execution_count": 42,
   "metadata": {},
   "outputs": [
    {
     "name": "stdout",
     "output_type": "stream",
     "text": [
      "Energy = 1.0216081713894496\n",
      "Acceptance = 0.7917749822501774\n",
      "Ground state = [-1.    1.   -1.01 -1.   -1.   -1.   -1.  ]\n",
      "Energy from groundstate = 0.975\n"
     ]
    }
   ],
   "source": [
    "e = np.mean(ising.energy)\n",
    "p = np.mean(ising.acceptance)\n",
    "psi = np.mean(ising.configs, axis=0) / np.sqrt(target_beta) - ising.k\n",
    "\n",
    "ppsi = psi.round(2)\n",
    "e_gs =  ppsi @ J @ ppsi + h @ ppsi + offset\n",
    "\n",
    "print(\"Energy =\", e)\n",
    "print(\"Acceptance =\", p)\n",
    "print(\"Ground state =\", ppsi)\n",
    "print(f\"Energy from groundstate = {e_gs:1.3f}\")"
   ]
  },
  {
   "cell_type": "code",
   "execution_count": null,
   "metadata": {},
   "outputs": [],
   "source": []
  }
 ],
 "metadata": {
  "kernelspec": {
   "display_name": "Python 3",
   "language": "python",
   "name": "python3"
  },
  "language_info": {
   "codemirror_mode": {
    "name": "ipython",
    "version": 3
   },
   "file_extension": ".py",
   "mimetype": "text/x-python",
   "name": "python",
   "nbconvert_exporter": "python",
   "pygments_lexer": "ipython3",
   "version": "3.7.6"
  }
 },
 "nbformat": 4,
 "nbformat_minor": 2
}
